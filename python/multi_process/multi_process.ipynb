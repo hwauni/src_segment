{
 "cells": [
  {
   "cell_type": "code",
   "execution_count": 4,
   "metadata": {},
   "outputs": [
    {
     "name": "stdout",
     "output_type": "stream",
     "text": [
      "1\n",
      "3\n",
      "test2\n",
      "test1\n"
     ]
    }
   ],
   "source": [
    "# -*- coding: utf-8 -*-\n",
    "#!/usr/bin/python3\n",
    "\n",
    "import os\n",
    "from multiprocessing import Process, Lock\n",
    "\n",
    "def ms_output(*args):\n",
    "    for one in args:\n",
    "        print(one)\n",
    "\n",
    "class ProcessMgr:\n",
    "    def __init__(self, worker):\n",
    "        self.process_list = []\n",
    "        if not worker:\n",
    "            return False\n",
    "        self.worker = worker\n",
    "\n",
    "    def produce_process(self, *args):\n",
    "        process = Process(target=self.worker, args=(args) )\n",
    "        self.process_list.append(process)\n",
    "\n",
    "    def start(self):\n",
    "        for pro in self.process_list:\n",
    "            pro.start()\n",
    "\n",
    "    def stop(self):\n",
    "        for pro in self.process_list:\n",
    "            pro.join()\n",
    "\n",
    "if __name__ == \"__main__\":\n",
    "    ProcessMgr = ProcessMgr(ms_output)\n",
    "    ProcessMgr.produce_process(1, \"test1\")\n",
    "    ProcessMgr.produce_process(3, \"test2\")\n",
    "    ProcessMgr.start()\n",
    "    ProcessMgr.stop()\n"
   ]
  }
 ],
 "metadata": {
  "kernelspec": {
   "display_name": "Python 3",
   "language": "python",
   "name": "python3"
  },
  "language_info": {
   "codemirror_mode": {
    "name": "ipython",
    "version": 3
   },
   "file_extension": ".py",
   "mimetype": "text/x-python",
   "name": "python",
   "nbconvert_exporter": "python",
   "pygments_lexer": "ipython3",
   "version": "3.6.4"
  }
 },
 "nbformat": 4,
 "nbformat_minor": 2
}
